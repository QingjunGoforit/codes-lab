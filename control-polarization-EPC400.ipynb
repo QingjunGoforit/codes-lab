{
 "cells": [
  {
   "cell_type": "code",
   "execution_count": 35,
   "id": "5e69ac65",
   "metadata": {},
   "outputs": [],
   "source": [
    "#from .base import CommandsBase\n",
    "#from ..utility import check_type_decorator, retry_on_exception\n",
    "from enum import Enum\n",
    "\n",
    "\n",
    "import pyvisa\n",
    "\n",
    "\n",
    "class OperatingModeEnum(Enum):\n",
    "    DC = \"DC\"\n",
    "    AC = \"AC\"\n",
    "\n",
    "\n",
    "class OzOpticsEPCCommands():\n",
    "    def __init__(self, address):\n",
    "        rm = pyvisa.ResourceManager()\n",
    "        self.inst = rm.open_resource(\n",
    "            address,\n",
    "            write_termination=\"\\r\\n\",\n",
    "            read_termination=\"\\r\\n\",\n",
    "            timeout=30000,\n",
    "        )\n",
    "\n",
    "    def query(self, command: str) -> (str, str):\n",
    "        response = \"\"\n",
    "        if self.inst is not None:\n",
    "            self.write(command)\n",
    "            if command == \"RESET\":\n",
    "                [self.read() for _ in range(2)]\n",
    "            else:\n",
    "                while True:\n",
    "                    next_line = self.read()\n",
    "                    if next_line == \"Done\":\n",
    "                        break\n",
    "                    else:\n",
    "                        response += f\",{next_line}\"\n",
    "        return command, response[1:]\n",
    "\n",
    "    def write(self,command):\n",
    "        self.inst.write(command)\n",
    "    \n",
    "    def read(self):\n",
    "        return self.inst.read()\n",
    "    \n",
    "    def identify(self) -> (str, dict):\n",
    "        return \"*IDN?\", {\n",
    "            \"manufacturer\": \"OZ Optics Limited\",\n",
    "            \"model_number\": \"EPC-OEM\",\n",
    "            \"serial\": self.get_serial_number()[1],\n",
    "            \"revision\": self.get_version()[1],\n",
    "        }\n",
    "\n",
    "    def get_serial_number(self) -> (str, str):\n",
    "        command, serial_number = self.query(\"SN?\")\n",
    "        if serial_number != \"\":\n",
    "            serial_number = serial_number.split(\",\")[0].split(\":\")[1][1:]\n",
    "        return command, serial_number\n",
    "\n",
    "    def get_version(self) -> (str, str):\n",
    "        command, version = self.query(\"VER?\")\n",
    "        if version != \"\":\n",
    "            version = version.split(\":\")[1][1:]\n",
    "        return command, version\n",
    "\n",
    "    def reset(self) -> str:\n",
    "        command, _ = self.query(\"RESET\")\n",
    "        return command\n",
    "\n",
    "    def set_mode(self, mode) -> str:\n",
    "        #\"mode = self.as_enum(mode, OperatingModeEnum)\n",
    "        if mode == 'AC':\n",
    "            mode = OperatingModeEnum.AC\n",
    "        else:\n",
    "            mode = OperatingModeEnum.DC\n",
    "        return self.query(f\"M{mode.value}\")[0]\n",
    "\n",
    "    def get_operating_mode(self) -> (str, OperatingModeEnum):\n",
    "        command, operating_mode = self.query(\"M?\")\n",
    "        if operating_mode != \"\":\n",
    "            operating_mode = OperatingModeEnum(operating_mode.split(\",\")[0].split(\":\")[1][1:])\n",
    "        return command, operating_mode\n",
    "\n",
    "    def set_voltages(self, voltage: float, channel: int) -> str:\n",
    "        voltage_mv = voltage * 1000.0\n",
    "        print('votage value in mV')\n",
    "        if channel < 1 or channel > 4:\n",
    "            raise Exception(f\"Channel number {channel} is out of range. Must be between 1 and 4.\")\n",
    "        if voltage_mv < -5000.0 or voltage_mv > 5000.0:\n",
    "            raise Exception(f\"Voltage {voltage} if out of range. Must be between -5.0 and +5.0 V.\")\n",
    "        response = self.query(f\"V{channel},{voltage_mv:.0f}\")[0]\n",
    "        self.set_mode(OperatingModeEnum.DC)\n",
    "        #if self.check_state:\n",
    "        #    self._check_voltages(voltage, channel)\n",
    "        return response\n",
    "\n",
    "    def get_voltages(self) -> (str, list):\n",
    "        command, voltages = self.query(\"V?\")\n",
    "        if voltages != \"\":\n",
    "            voltages = voltages.split(\" \")\n",
    "            voltages = [\n",
    "                float(voltages[2]) / 1000,\n",
    "                float(voltages[5]) / 1000,\n",
    "                float(voltages[8]) / 1000,\n",
    "                float(voltages[11]) / 1000,\n",
    "            ]\n",
    "        return command, voltages\n",
    "\n",
    "    def _check_voltages(self, voltage: float, channel: int):\n",
    "        actual = self.get_voltages()[1][channel - 1]\n",
    "        if abs(voltage - actual) > 0.04:\n",
    "            raise Exception(f\"Attempted to set channel {channel} to {voltage}. Voltage set to {actual} instead.\")\n",
    "            \n",
    "    def set_voltages2(self, voltage: float, channel: int) -> str:\n",
    "        #voltage_mv = voltage * 1000.0\n",
    "        #print('votage value in mV')\n",
    "        if channel < 1 or channel > 4:\n",
    "            raise Exception(f\"Channel number {channel} is out of range. Must be between 1 and 4.\")\n",
    "        if voltage < -5.0 or voltage > 5.0:\n",
    "            raise Exception(f\"Voltage {voltage} if out of range. Must be between -5.0 and +5.0 V.\")\n",
    "        response = self.query(f\"V{channel},{voltage*1000:.0f}\")[0]\n",
    "        self.set_mode(OperatingModeEnum.DC)\n",
    "        #if self.check_state:\n",
    "        #    self._check_voltages(voltage, channel)\n",
    "        #return response\n"
   ]
  },
  {
   "cell_type": "code",
   "execution_count": 36,
   "id": "1a4fb36f",
   "metadata": {},
   "outputs": [],
   "source": [
    "import numpy as np\n",
    "import time\n",
    "from ipywidgets import interact, interactive, fixed, interact_manual\n",
    "import ipywidgets as widgets"
   ]
  },
  {
   "cell_type": "code",
   "execution_count": 37,
   "id": "5f23aa69",
   "metadata": {},
   "outputs": [],
   "source": [
    "epc = OzOpticsEPCCommands('ASRL6::INSTR')"
   ]
  },
  {
   "cell_type": "code",
   "execution_count": 39,
   "id": "1fa08bcc",
   "metadata": {},
   "outputs": [
    {
     "name": "stdout",
     "output_type": "stream",
     "text": [
      "votage value in mV\n",
      "votage value in mV\n",
      "votage value in mV\n",
      "votage value in mV\n"
     ]
    },
    {
     "data": {
      "text/plain": [
       "'V4,2000'"
      ]
     },
     "execution_count": 39,
     "metadata": {},
     "output_type": "execute_result"
    }
   ],
   "source": [
    "epc.set_voltages(0,1)\n",
    "epc.set_voltages(0,2)\n",
    "epc.set_voltages(0,3)\n",
    "epc.set_voltages(2,4)"
   ]
  },
  {
   "cell_type": "code",
   "execution_count": 40,
   "id": "2ed0b60e",
   "metadata": {},
   "outputs": [
    {
     "ename": "ValueError",
     "evalue": "could not convert string to float: 'DC'",
     "output_type": "error",
     "traceback": [
      "\u001b[1;31m---------------------------------------------------------------------------\u001b[0m",
      "\u001b[1;31mValueError\u001b[0m                                Traceback (most recent call last)",
      "Cell \u001b[1;32mIn[40], line 1\u001b[0m\n\u001b[1;32m----> 1\u001b[0m epc\u001b[39m.\u001b[39;49mget_voltages()\n",
      "Cell \u001b[1;32mIn[35], line 101\u001b[0m, in \u001b[0;36mOzOpticsEPCCommands.get_voltages\u001b[1;34m(self)\u001b[0m\n\u001b[0;32m     98\u001b[0m \u001b[39mif\u001b[39;00m voltages \u001b[39m!=\u001b[39m \u001b[39m\"\u001b[39m\u001b[39m\"\u001b[39m:\n\u001b[0;32m     99\u001b[0m     voltages \u001b[39m=\u001b[39m voltages\u001b[39m.\u001b[39msplit(\u001b[39m\"\u001b[39m\u001b[39m \u001b[39m\u001b[39m\"\u001b[39m)\n\u001b[0;32m    100\u001b[0m     voltages \u001b[39m=\u001b[39m [\n\u001b[1;32m--> 101\u001b[0m         \u001b[39mfloat\u001b[39;49m(voltages[\u001b[39m2\u001b[39;49m]) \u001b[39m/\u001b[39m \u001b[39m1000\u001b[39m,\n\u001b[0;32m    102\u001b[0m         \u001b[39mfloat\u001b[39m(voltages[\u001b[39m5\u001b[39m]) \u001b[39m/\u001b[39m \u001b[39m1000\u001b[39m,\n\u001b[0;32m    103\u001b[0m         \u001b[39mfloat\u001b[39m(voltages[\u001b[39m8\u001b[39m]) \u001b[39m/\u001b[39m \u001b[39m1000\u001b[39m,\n\u001b[0;32m    104\u001b[0m         \u001b[39mfloat\u001b[39m(voltages[\u001b[39m11\u001b[39m]) \u001b[39m/\u001b[39m \u001b[39m1000\u001b[39m,\n\u001b[0;32m    105\u001b[0m     ]\n\u001b[0;32m    106\u001b[0m \u001b[39mreturn\u001b[39;00m command, voltages\n",
      "\u001b[1;31mValueError\u001b[0m: could not convert string to float: 'DC'"
     ]
    }
   ],
   "source": [
    "epc.get_voltages()"
   ]
  },
  {
   "cell_type": "code",
   "execution_count": 43,
   "id": "39c4f3fe",
   "metadata": {},
   "outputs": [
    {
     "data": {
      "application/vnd.jupyter.widget-view+json": {
       "model_id": "a77c83cece6b4128b4aa270702dc1c10",
       "version_major": 2,
       "version_minor": 0
      },
      "text/plain": [
       "interactive(children=(FloatSlider(value=0.0, description='Voltage 1:', max=5.0, min=-5.0, readout_format='.1e'…"
      ]
     },
     "metadata": {},
     "output_type": "display_data"
    },
    {
     "data": {
      "application/vnd.jupyter.widget-view+json": {
       "model_id": "e134fa3fc4954ff294e289ae3afe393e",
       "version_major": 2,
       "version_minor": 0
      },
      "text/plain": [
       "interactive(children=(FloatSlider(value=0.0, description='Voltage 2:', max=5.0, min=-5.0, readout_format='.1e'…"
      ]
     },
     "metadata": {},
     "output_type": "display_data"
    },
    {
     "data": {
      "application/vnd.jupyter.widget-view+json": {
       "model_id": "cf9950818c6445828986f22db0b4be6e",
       "version_major": 2,
       "version_minor": 0
      },
      "text/plain": [
       "interactive(children=(FloatSlider(value=0.0, description='Voltage 3:', max=5.0, min=-5.0, readout_format='.1e'…"
      ]
     },
     "metadata": {},
     "output_type": "display_data"
    },
    {
     "data": {
      "application/vnd.jupyter.widget-view+json": {
       "model_id": "9342dfefd94a415aae62022471242e37",
       "version_major": 2,
       "version_minor": 0
      },
      "text/plain": [
       "interactive(children=(FloatSlider(value=0.0, description='Voltage 4:', max=5.0, min=-5.0, readout_format='.1e'…"
      ]
     },
     "metadata": {},
     "output_type": "display_data"
    },
    {
     "data": {
      "text/plain": [
       "<function __main__.changeVoltAO1(x)>"
      ]
     },
     "execution_count": 43,
     "metadata": {},
     "output_type": "execute_result"
    }
   ],
   "source": [
    "from ipywidgets import interact, interactive, fixed, interact_manual\n",
    "import ipywidgets as widgets\n",
    "\n",
    "def changeVoltAO1(x):\n",
    "    global vnew1\n",
    "    vnew1 = x\n",
    "    epc.set_voltages(vnew1,1)\n",
    "\n",
    "interact(changeVoltAO1, x = widgets.FloatSlider(\n",
    "    value= 0 ,\n",
    "    min=-5,\n",
    "    max=5,\n",
    "    step=0.1,\n",
    "    description='Voltage 1:',\n",
    "    disabled=False,\n",
    "    continuous_update= True,\n",
    "    orientation='horizontal',\n",
    "    readout=True,\n",
    "    readout_format='.1e',\n",
    "))\n",
    "def changeVoltAO1(x):\n",
    "    global vnew1\n",
    "    vnew1 = x\n",
    "    epc.set_voltages(vnew1,2)\n",
    "\n",
    "interact(changeVoltAO1, x = widgets.FloatSlider(\n",
    "    value= 0 ,\n",
    "    min=-5,\n",
    "    max=5,\n",
    "    step=0.1,\n",
    "    description='Voltage 2:',\n",
    "    disabled=False,\n",
    "    continuous_update= True,\n",
    "    orientation='horizontal',\n",
    "    readout=True,\n",
    "    readout_format='.1e',\n",
    "))\n",
    "def changeVoltAO1(x):\n",
    "    global vnew1\n",
    "    vnew1 = x\n",
    "    epc.set_voltages(vnew1,3)\n",
    "\n",
    "interact(changeVoltAO1, x = widgets.FloatSlider(\n",
    "    value= 0 ,\n",
    "    min=-5,\n",
    "    max=5,\n",
    "    step=0.1,\n",
    "    description='Voltage 3:',\n",
    "    disabled=False,\n",
    "    continuous_update= True,\n",
    "    orientation='horizontal',\n",
    "    readout=True,\n",
    "    readout_format='.1e',\n",
    "))\n",
    "def changeVoltAO1(x):\n",
    "    global vnew1\n",
    "    vnew1 = x\n",
    "    epc.set_voltages(vnew1,4)\n",
    "\n",
    "interact(changeVoltAO1, x = widgets.FloatSlider(\n",
    "    value= 0 ,\n",
    "    min=-5,\n",
    "    max=5,\n",
    "    step=0.1,\n",
    "    description='Voltage 4:',\n",
    "    disabled=False,\n",
    "    continuous_update= True,\n",
    "    orientation='horizontal',\n",
    "    readout=True,\n",
    "    readout_format='.1e',\n",
    "))"
   ]
  },
  {
   "cell_type": "code",
   "execution_count": 42,
   "id": "5eb2acfc",
   "metadata": {},
   "outputs": [
    {
     "ename": "ValueError",
     "evalue": "could not convert string to float: 'DC'",
     "output_type": "error",
     "traceback": [
      "\u001b[1;31m---------------------------------------------------------------------------\u001b[0m",
      "\u001b[1;31mValueError\u001b[0m                                Traceback (most recent call last)",
      "Cell \u001b[1;32mIn[42], line 1\u001b[0m\n\u001b[1;32m----> 1\u001b[0m epc\u001b[39m.\u001b[39;49mget_voltages()\n",
      "Cell \u001b[1;32mIn[35], line 101\u001b[0m, in \u001b[0;36mOzOpticsEPCCommands.get_voltages\u001b[1;34m(self)\u001b[0m\n\u001b[0;32m     98\u001b[0m \u001b[39mif\u001b[39;00m voltages \u001b[39m!=\u001b[39m \u001b[39m\"\u001b[39m\u001b[39m\"\u001b[39m:\n\u001b[0;32m     99\u001b[0m     voltages \u001b[39m=\u001b[39m voltages\u001b[39m.\u001b[39msplit(\u001b[39m\"\u001b[39m\u001b[39m \u001b[39m\u001b[39m\"\u001b[39m)\n\u001b[0;32m    100\u001b[0m     voltages \u001b[39m=\u001b[39m [\n\u001b[1;32m--> 101\u001b[0m         \u001b[39mfloat\u001b[39;49m(voltages[\u001b[39m2\u001b[39;49m]) \u001b[39m/\u001b[39m \u001b[39m1000\u001b[39m,\n\u001b[0;32m    102\u001b[0m         \u001b[39mfloat\u001b[39m(voltages[\u001b[39m5\u001b[39m]) \u001b[39m/\u001b[39m \u001b[39m1000\u001b[39m,\n\u001b[0;32m    103\u001b[0m         \u001b[39mfloat\u001b[39m(voltages[\u001b[39m8\u001b[39m]) \u001b[39m/\u001b[39m \u001b[39m1000\u001b[39m,\n\u001b[0;32m    104\u001b[0m         \u001b[39mfloat\u001b[39m(voltages[\u001b[39m11\u001b[39m]) \u001b[39m/\u001b[39m \u001b[39m1000\u001b[39m,\n\u001b[0;32m    105\u001b[0m     ]\n\u001b[0;32m    106\u001b[0m \u001b[39mreturn\u001b[39;00m command, voltages\n",
      "\u001b[1;31mValueError\u001b[0m: could not convert string to float: 'DC'"
     ]
    }
   ],
   "source": [
    "epc.get_voltages()"
   ]
  },
  {
   "cell_type": "code",
   "execution_count": null,
   "id": "8dbbdeda",
   "metadata": {},
   "outputs": [],
   "source": []
  },
  {
   "cell_type": "code",
   "execution_count": null,
   "id": "ab36693f",
   "metadata": {},
   "outputs": [],
   "source": []
  }
 ],
 "metadata": {
  "kernelspec": {
   "display_name": "Python 3 (ipykernel)",
   "language": "python",
   "name": "python3"
  },
  "language_info": {
   "codemirror_mode": {
    "name": "ipython",
    "version": 3
   },
   "file_extension": ".py",
   "mimetype": "text/x-python",
   "name": "python",
   "nbconvert_exporter": "python",
   "pygments_lexer": "ipython3",
   "version": "3.9.16"
  }
 },
 "nbformat": 4,
 "nbformat_minor": 5
}
