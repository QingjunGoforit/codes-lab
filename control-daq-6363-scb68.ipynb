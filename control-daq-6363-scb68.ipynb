{
 "cells": [
  {
   "cell_type": "code",
   "execution_count": 23,
   "id": "05727c35",
   "metadata": {
    "slideshow": {
     "slide_type": "skip"
    }
   },
   "outputs": [],
   "source": [
    "import nidaqmx\n",
    "import numpy as np\n",
    "import time\n",
    "#import panel as pn\n",
    "#from panel.interact import interact, fixed\n",
    "#from panel import widgets\n",
    "#pn.extension()\n",
    "from ipywidgets import interact, interactive, fixed, interact_manual\n",
    "import ipywidgets as widgets"
   ]
  },
  {
   "cell_type": "code",
   "execution_count": 24,
   "id": "d5167dd5-0969-4857-9b0a-bf674404cb5d",
   "metadata": {},
   "outputs": [],
   "source": [
    "def setZero(devchan):\n",
    "    with nidaqmx.Task() as task:\n",
    "            task.ao_channels.add_ao_voltage_chan(devchan)\n",
    "            task.write([0], auto_start = True)"
   ]
  },
  {
   "cell_type": "code",
   "execution_count": 25,
   "id": "dfa9c7cb-d836-4726-9bbc-3ff88cae08ce",
   "metadata": {},
   "outputs": [],
   "source": [
    "def setAllZero():\n",
    "    setZero(\"Dev1/ao0\")\n",
    "    # setZero(\"Dev1/ao1\")\n",
    "    setZero(\"Dev1/ao2\")\n",
    "    # setZero(\"Dev1/ao3\")\n"
   ]
  },
  {
   "cell_type": "code",
   "execution_count": 26,
   "id": "a9caac2d-3bc3-46b5-bdfc-713e3862eba5",
   "metadata": {},
   "outputs": [],
   "source": [
    "\n",
    "def climbVoltage(start, end, step, hold, devchan):\n",
    "    voltage = [i for i in np.arange(start, end, step)]\n",
    "    for i in range(len(voltage)): \n",
    "        with nidaqmx.Task() as task:\n",
    "            task.ao_channels.add_ao_voltage_chan(devchan)\n",
    "            task.write([voltage[i]], auto_start=True)\n",
    "            time.sleep(hold)"
   ]
  },
  {
   "cell_type": "code",
   "execution_count": null,
   "id": "c4ea1d08-4405-463a-9590-c28e12772529",
   "metadata": {},
   "outputs": [],
   "source": [
    "# from ipywidgets import interact, interactive, fixed, interact_manual\n",
    "# import ipywidgets as widgets\n",
    "\n",
    "# def changeVoltAO3(x):\n",
    "#     global vnew3\n",
    "#     vnew3 = x\n",
    "#     with nidaqmx.Task() as task:\n",
    "#         task.ao_channels.add_ao_voltage_chan(\"Dev1/ao3\")\n",
    "#         task.write([vnew3], auto_start = True)\n",
    "\n",
    "# interact(changeVoltAO3, x = widgets.FloatSlider(\n",
    "#     value= 0 ,\n",
    "#     min=0,\n",
    "#     max=0.5,\n",
    "#     step=0.01,\n",
    "#     description='Theta Voltage:',\n",
    "#     disabled=False,\n",
    "#     continuous_update= True,\n",
    "#     orientation='horizontal',\n",
    "#     readout=True,\n",
    "#     readout_format='.3e',\n",
    "# ))"
   ]
  },
  {
   "cell_type": "code",
   "execution_count": null,
   "id": "25227282-e746-4185-bcc9-17a602569c2c",
   "metadata": {},
   "outputs": [],
   "source": [
    "from ipywidgets import interact, interactive, fixed, interact_manual\n",
    "import ipywidgets as widgets\n",
    "\n",
    "#fiber strechter\n",
    "\n",
    "def changeVoltAO2(x):\n",
    "    global vnew2\n",
    "    vnew2 = x\n",
    "    with nidaqmx.Task() as task:\n",
    "        task.ao_channels.add_ao_voltage_chan(\"Dev1/ao2\")\n",
    "        task.write([vnew2], auto_start = True)\n",
    "\n",
    "interact(changeVoltAO2, x = widgets.FloatSlider(\n",
    "    value= 0 ,\n",
    "    min=0,\n",
    "    max= 10,\n",
    "    step=0.001,\n",
    "    description='Phi Voltage:',\n",
    "    disabled=False,\n",
    "    continuous_update= True,\n",
    "    orientation='horizontal',\n",
    "    readout=True,\n",
    "    readout_format='.3e',\n",
    "))"
   ]
  },
  {
   "cell_type": "code",
   "execution_count": null,
   "id": "ec5c7fd9-9ce3-4e85-8732-cfc706265d4e",
   "metadata": {},
   "outputs": [],
   "source": [
    "# from ipywidgets import interact, interactive, fixed, interact_manual\n",
    "# import ipywidgets as widgets\n",
    "\n",
    "# def changeVoltAO1(x):\n",
    "#     global vnew1\n",
    "#     vnew1 = x\n",
    "#     with nidaqmx.Task() as task:\n",
    "#         task.ao_channels.add_ao_voltage_chan(\"Dev1/ao1\")\n",
    "#         task.write([vnew1], auto_start = True)\n",
    "\n",
    "# interact(changeVoltAO1, x = widgets.FloatSlider(\n",
    "#     value= 0 ,\n",
    "#     min= 0,\n",
    "#     max= 0.1,\n",
    "#     step=0.001,\n",
    "#     description='AC Balance Voltage:',\n",
    "#     disabled=False,\n",
    "#     continuous_update= True,\n",
    "#     orientation='horizontal',\n",
    "#     readout=True,\n",
    "#     readout_format='.3e',\n",
    "# ))"
   ]
  },
  {
   "cell_type": "code",
   "execution_count": 28,
   "id": "123eee0f-7288-411a-a379-cdb9a461a76e",
   "metadata": {},
   "outputs": [
    {
     "data": {
      "application/vnd.jupyter.widget-view+json": {
       "model_id": "b3e2b839f1f54ac8a4cabb93adcabbc3",
       "version_major": 2,
       "version_minor": 0
      },
      "text/plain": [
       "interactive(children=(FloatSlider(value=0.0, description='AC Balance Voltage:', max=5.0, readout_format='.3e',…"
      ]
     },
     "metadata": {},
     "output_type": "display_data"
    },
    {
     "data": {
      "text/plain": [
       "<function __main__.changeVoltAO0(x)>"
      ]
     },
     "execution_count": 28,
     "metadata": {},
     "output_type": "execute_result"
    }
   ],
   "source": [
    "from ipywidgets import interact, interactive, fixed, interact_manual\n",
    "import ipywidgets as widgets\n",
    "\n",
    "def changeVoltAO0(x):\n",
    "    global vnew0\n",
    "    vnew0 = x\n",
    "    with nidaqmx.Task() as task:\n",
    "        task.ao_channels.add_ao_voltage_chan(\"Dev1/ao0\")\n",
    "        task.write([vnew0], auto_start = True)\n",
    "\n",
    "interact(changeVoltAO0, x = widgets.FloatSlider(\n",
    "    value= 0 ,\n",
    "    min= 0,\n",
    "    max= 5,\n",
    "    step=0.5,\n",
    "    description='AC Balance Voltage:',\n",
    "    disabled=False,\n",
    "    continuous_update= True,\n",
    "    orientation='horizontal',\n",
    "    readout=True,\n",
    "    readout_format='.3e',\n",
    "))"
   ]
  },
  {
   "cell_type": "code",
   "execution_count": 29,
   "id": "9016de25",
   "metadata": {},
   "outputs": [
    {
     "ename": "NameError",
     "evalue": "name 'task' is not defined",
     "output_type": "error",
     "traceback": [
      "\u001b[1;31m---------------------------------------------------------------------------\u001b[0m",
      "\u001b[1;31mNameError\u001b[0m                                 Traceback (most recent call last)",
      "Cell \u001b[1;32mIn[29], line 1\u001b[0m\n\u001b[1;32m----> 1\u001b[0m task\u001b[39m.\u001b[39mclose()\n",
      "\u001b[1;31mNameError\u001b[0m: name 'task' is not defined"
     ]
    }
   ],
   "source": []
  },
  {
   "cell_type": "code",
   "execution_count": null,
   "id": "8ad5d689-9f12-4c2e-9885-1edad72b42df",
   "metadata": {},
   "outputs": [],
   "source": [
    "# from ipywidgets import interact, interactive, fixed, interact_manual\n",
    "# import ipywidgets as widgets\n",
    "\n",
    "# def changeVoltAO0(x):\n",
    "#     global vnew0\n",
    "#     vnew0 = x\n",
    "#     with nidaqmx.Task() as task:\n",
    "#         task.ao_channels.add_ao_voltage_chan(\"Dev1/ao0\")\n",
    "#         task.write([vnew0], auto_start = True)\n",
    "\n",
    "# interact(changeVoltAO0, x = widgets.FloatSlider(\n",
    "#     value= 0 ,\n",
    "#     min=0,\n",
    "#     max=0.05,\n",
    "#     step=0.001,\n",
    "#     description='AC Balance Voltage:',\n",
    "#     disabled=False,\n",
    "#     continuous_update= True,\n",
    "#     orientation='horizontal',\n",
    "#     readout=True,\n",
    "#     readout_format='.3e',\n",
    "# ))"
   ]
  },
  {
   "cell_type": "markdown",
   "id": "48a60435-dc65-4f6d-973b-671372ce98a6",
   "metadata": {},
   "source": [
    "# Testing/Deployment"
   ]
  },
  {
   "cell_type": "code",
   "execution_count": null,
   "id": "97568108-8290-4536-951b-fc4945c8898a",
   "metadata": {},
   "outputs": [],
   "source": [
    "beta = np.arange(40/30, 0, -1)\n",
    "print(beta)"
   ]
  },
  {
   "cell_type": "code",
   "execution_count": null,
   "id": "2b6be686-b255-4eaf-bea8-e3772dc3a5c2",
   "metadata": {},
   "outputs": [],
   "source": [
    "system = nidaqmx.system.System.local()\n",
    "for device in system.devices:\n",
    "    print(device)"
   ]
  },
  {
   "cell_type": "code",
   "execution_count": null,
   "id": "4c212e83-30c5-429d-8a45-15f4f8523140",
   "metadata": {},
   "outputs": [],
   "source": [
    "setZero('Dev1/ao3')"
   ]
  },
  {
   "cell_type": "code",
   "execution_count": null,
   "id": "9fb6ba4b-9469-4ad5-9ea3-5ea9f88aa0ff",
   "metadata": {},
   "outputs": [],
   "source": []
  },
  {
   "cell_type": "code",
   "execution_count": null,
   "id": "40754f99-0c1c-408f-ad0b-f73e7a92b1a5",
   "metadata": {},
   "outputs": [],
   "source": []
  },
  {
   "cell_type": "code",
   "execution_count": null,
   "id": "189d19ce-75ec-4d33-be9c-c4da94c8c812",
   "metadata": {},
   "outputs": [],
   "source": [
    "with nidaqmx.Task() as task:\n",
    "        task.ao_channels.add_ao_voltage_chan(\"Dev1/ao1\")\n",
    "        task.write([0.5], auto_start = True)\n",
    "        \n",
    "        #in the unit of V"
   ]
  },
  {
   "cell_type": "code",
   "execution_count": null,
   "id": "415de552-27aa-4fbc-97a1-4acafd795f96",
   "metadata": {},
   "outputs": [],
   "source": [
    "setZero(\"Dev1/ao2\")\n",
    "setZero(\"Dev1/ao0\")"
   ]
  },
  {
   "cell_type": "code",
   "execution_count": null,
   "id": "e7234f72-dec1-4791-80c4-040dfe6a9cca",
   "metadata": {},
   "outputs": [],
   "source": [
    "setAllZero()"
   ]
  },
  {
   "cell_type": "code",
   "execution_count": null,
   "id": "d94e5ef8-8405-4c0a-ab65-3ae088a964a6",
   "metadata": {},
   "outputs": [],
   "source": []
  }
 ],
 "metadata": {
  "kernelspec": {
   "display_name": "Python 3",
   "language": "python",
   "name": "python3"
  },
  "language_info": {
   "codemirror_mode": {
    "name": "ipython",
    "version": 3
   },
   "file_extension": ".py",
   "mimetype": "text/x-python",
   "name": "python",
   "nbconvert_exporter": "python",
   "pygments_lexer": "ipython3",
   "version": "3.10.11"
  },
  "vscode": {
   "interpreter": {
    "hash": "cc9fd6dd744e3b5d367a1c11e30d546e6435580a44b424cf475e1777bddb2098"
   }
  }
 },
 "nbformat": 4,
 "nbformat_minor": 5
}
