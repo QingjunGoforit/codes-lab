{
 "cells": [
  {
   "cell_type": "code",
   "execution_count": 16,
   "metadata": {},
   "outputs": [
    {
     "name": "stdout",
     "output_type": "stream",
     "text": [
      "Agilent Technologies,8164B,MY48203799,V5.25(72636)\n",
      "KEYSIGHT TECHNOLOGIES,MSOS804A,MY60340137,06.72.00302\n",
      "Agilent Technologies,33621A,MY59000430,A.02.03-3.15-03-64-02\n"
     ]
    }
   ],
   "source": [
    "import re\n",
    "import time\n",
    "import pyvisa\n",
    "import numpy as np\n",
    "import pandas as pd\n",
    "import matplotlib.pyplot as plt\n",
    "plt.rcParams['figure.autolayout'] = True; plt.rc('font', size=16)\n",
    "plt.rc('text', usetex=False); plt.rc('font', family='serif'); plt.rcParams['figure.figsize'] = (10, 4)\n",
    "\n",
    "from tools import *\n",
    "\n",
    "## with direct pyvisa\n",
    "tlsAddr = 'GPIB0::21::INSTR'\n",
    "oscAddr = 'USB0::10893::36939::MY60340137::0::INSTR'\n",
    "fgAddr = 'USB0::0x0957::0x5407::MY59000430::INSTR'\n",
    "\n",
    "resMan = pyvisa.ResourceManager()\n",
    "tlsAgilent = resMan.open_resource(tlsAddr); oscKeysight = resMan.open_resource(oscAddr); fgKeysight = resMan.open_resource(fgAddr)\n",
    "print(tlsAgilent.query('*IDN?').strip()); print(oscKeysight.query('*IDN?').strip()); print(fgKeysight.query('*IDN?').strip())\n",
    "\n",
    "## proper init both?\n",
    "\n",
    "## params\n",
    "vc = 299792458 ## m/s\n",
    "nSample = 10e6 ## min number for something\n",
    "samplingRateLib = [10e3, 20e3, 25e3, 40e3, 50e3, 100e3, 200e3, 400e3, 500e3, 1e6, 2e6, 2.5e6, 4e6, 5e6, 10e6, 20e6, 25e6, 40e6, 50e6, 100e6] ## automatic sampling rate"
   ]
  },
  {
   "cell_type": "markdown",
   "metadata": {},
   "source": [
    "## piezo sweep"
   ]
  },
  {
   "cell_type": "code",
   "execution_count": 15,
   "metadata": {},
   "outputs": [
    {
     "name": "stdout",
     "output_type": "stream",
     "text": [
      "43.86 60.0\n"
     ]
    },
    {
     "data": {
      "text/plain": [
       "6"
      ]
     },
     "execution_count": 15,
     "metadata": {},
     "output_type": "execute_result"
    }
   ],
   "source": [
    "## init\n",
    "lambDefault = 1550.08\n",
    "ringRad = '1600'\n",
    "deviceCurrent = 'D4'\n",
    "mziFSR = 17.0699e6 ## in Hz, either 1.9829e6 or 17.0699e6\n",
    "\n",
    "## FSRGuess parsing\n",
    "## in nm, 0.24 for 1000nm and 0.15 for 1600nm\n",
    "deviceNumber = int(re.findall(r'\\d+', deviceCurrent)[0])\n",
    "if 4 <= deviceNumber <= 8: ringRad = '1600SM'; FSRGuess = 0.12 \n",
    "if 9 <= deviceNumber <= 17: ringRad = '1000SM'; FSRGuess = 0.19\n",
    "else: ringRad = '1000MM'; FSRGuess = 0.19\n",
    "\n",
    "# lambStart = 1545; lambEnd = 1555; tuningSpeed = 0.5 ## everything is in nm\n",
    "lambStart = 1460; lambEnd = 1580; tuningSpeed = 5 ## everything is in nm\n",
    "sweepLength = lambEnd-lambStart; sweepElapsed = sweepLength/tuningSpeed\n",
    "sweepStep = 0.1 ## nm, keep this pls\n",
    "# sweepStep = float(tlsAgilent.query(':WAV:SWE:STEP? MIN').strip())*1e9; tlsAgilent.write(':WAV:SWE:STEP 0.0001NM') ## tried to be smart\n",
    "\n",
    "## derived\n",
    "mziMinSamplingRate = 50*(tuningSpeed*1e-9/(mziFSR*(1550e-9)**2/vc))/1e6 ## MHz\n",
    "numPtsMZIExpected = mziMinSamplingRate*(lambEnd-lambStart)/tuningSpeed ## MPts\n",
    "numResExpected = (lambEnd-lambStart)/FSRGuess ## num of resonances\n",
    "numPtsExpected = 0.5*(lambEnd-lambStart) ## MPts\n",
    "print(round(numPtsMZIExpected, 2), round(numPtsExpected, 2))\n",
    "\n",
    "oscDiv = sweepElapsed+1 ## 1s buffer after sweep is done. sanity check\n",
    "oscDelay = oscDiv/2 ## delay for wavelength sweep\n",
    "\n",
    "## tls\n",
    "tlsAgilent.write(':SOUR0:POW -10DBM'); tlsAgilent.write(':SOUR0:WAV ' + str(round(lambDefault,4)) + 'NM')\n",
    "tlsAgilent.write(':SOUR0:AM:SOUR 5'); tlsAgilent.write(':SOUR0:AM:STAT 1') ## wavelength locking\n",
    "## osc\n",
    "oscKeysight.write(':CHAN1:DISP 1'); oscKeysight.write(':CHAN2:DISP 1'); oscKeysight.write(':CHAN3:DISP 1'); oscKeysight.write(':CHAN4:DISP 1') ## all\n",
    "oscKeysight.write(':TIM:RANG 105MS'); oscKeysight.write(':TIM:POS 0S') ## div and delay\n",
    "oscKeysight.write(':ACQ:SRAT:ANAL:AUTO 0'); oscKeysight.write(':ACQ:POIN:AUTO 1') ## sampling rate to manual, sample points to auto\n",
    "for i in samplingRateLib:\n",
    "    oscKeysight.write(':ACQ:SRAT:ANAL ' + str(i))\n",
    "    if float(oscKeysight.query('ACQ:POIN:ANAL?').strip()) >= 1e6: break ## highest sampling rate for 1MPts\n",
    "## fg\n",
    "fgKeysight.write(':FUNC RAMP'); fgKeysight.write(':FREQ 5'); fgKeysight.write(':VOLT 5'); fgKeysight.write(':FUNC:RAMP:SYMM 50'); fgKeysight.write(':OUTP 1')\n",
    "\n",
    "## main\n",
    "oscKeysight.write(':TRIG:SWE TRIG') ## arm oscilloscope trigger\n",
    "oscKeysight.write(':RUN') ## i told u to arm!"
   ]
  },
  {
   "cell_type": "markdown",
   "metadata": {},
   "source": [
    "## piezo sweep, plot and save"
   ]
  },
  {
   "cell_type": "code",
   "execution_count": null,
   "metadata": {},
   "outputs": [],
   "source": [
    "lambCurrent = []\n",
    "nResonance = 2\n",
    "\n",
    "for i in np.arange(nResonance):\n",
    "    if nResonance == 1:\n",
    "        lambCurrent.append(lambDefault); break\n",
    "    elif i == 0:\n",
    "        lambCurrent.append(lambDefault)\n",
    "        lambForward, lambBackward = lambDefault, lambDefault\n",
    "        FSRGuess = fsrLambFun(lambDefault*1e-9, ringRad)*1e9\n",
    "        lambForward += FSRGuess; lambBackward -= FSRGuess\n",
    "    else:\n",
    "        FSRGuessForward = fsrLambFun(lambForward*1e-9, ringRad)*1e9\n",
    "        FSRGuessBackward = fsrLambFun(lambBackward*1e-9, ringRad)*1e9\n",
    "        lambForward += FSRGuessForward; lambBackward -= FSRGuessBackward\n",
    "\n",
    "    lambCurrent.append(lambForward); lambCurrent.append(lambBackward)\n",
    "lambCurrent.sort()\n",
    "# lambCurrent = np.linspace(lambDefault-np.floor(nResonance/2)*FSRGuess, lambDefault+np.floor(nResonance/2)*FSRGuess, nResonance)\n",
    "\n",
    "for i in lambCurrent:\n",
    "    fileName = deviceCurrent + '_' + str(round(i,4)) + 'nm'\n",
    "\n",
    "    ## main\n",
    "    tlsAgilent.write(':SOUR0:WAV ' + str(round(i,4)) + 'NM'); time.sleep(2) ## set wavelength\n",
    "    oscKeysight.write(':SING') ## arm oscilloscope trigger\n",
    "    oscKeysight.write(':RUN') ## i told u to arm!\n",
    "    time.sleep(3)\n",
    "    print('piezo sweep for wavelength:' + str(round(i,4)) + 'nm is done! acquiring data...')\n",
    "\n",
    "    ## get oscilloscope traces\n",
    "    oscKeysight.write(':WAV:SOUR CHAN1'); oscKeysight.query(':WAV:SOUR?')\n",
    "    yChan1 = oscKeysight.query_ascii_values(':WAV:DATA?', container=np.array)\n",
    "    oscKeysight.write(':WAV:SOUR CHAN2'); oscKeysight.query(':WAV:SOUR?')\n",
    "    yChan2 = oscKeysight.query_ascii_values(':WAV:DATA?', container=np.array)\n",
    "    oscKeysight.write(':WAV:SOUR CHAN3'); oscKeysight.query(':WAV:SOUR?')\n",
    "    yChan3 = oscKeysight.query_ascii_values(':WAV:DATA?', container=np.array)\n",
    "    oscKeysight.write(':WAV:SOUR CHAN4'); oscKeysight.query(':WAV:SOUR?')\n",
    "    yChan4 = oscKeysight.query_ascii_values(':WAV:DATA?', container=np.array)\n",
    "\n",
    "    xIncrement = float(oscKeysight.query(':WAV:XINCREMENT?')); xOrigin = float(oscKeysight.query(':WAV:XORIGIN?'))\n",
    "    xTime = [i*xIncrement + xOrigin for i in np.arange(0, len(yChan1))]\n",
    "\n",
    "    ## save to file\n",
    "    print('saving to file...')\n",
    "    dataFrame = pd.DataFrame()\n",
    "    dataFrame = pd.concat([dataFrame, pd.DataFrame(np.column_stack((xTime, yChan1, yChan2, yChan3, yChan4)), columns=['Time [s]', 'Channel 1 [V]', 'Channel 2 [V]', 'Channel 3 [V]', 'Channel 4 [V]'])])\n",
    "    dataFrame.to_csv(fileName + '.csv', index=False, header=True) ## csv\n",
    "    # # oscKeysight.write(':DISK:SAVE:WAV ALL,\"C:\\\\Users\\\\Administrator\\\\Desktop\\\\test\",CSV') ## inside osc\n",
    "\n",
    "    ## plotting\n",
    "    # print('plotting...')\n",
    "    # figHandler, axHandler = plt.subplots(1, 1, layout='constrained')\n",
    "    # plt.plot(xTime, yChan1, '-k', label='Ch1')\n",
    "    # # plt.plot(xTime, yChan2, '-g', label='Ch2')\n",
    "    # # plt.plot(xTime, yChan3, '-b', label='Ch3')\n",
    "    # # plt.plot(xTime, yChan3, '-r', label='Ch4')\n",
    "    # plt.grid(True); plt.xlabel('Time [s]'); plt.ylabel('Voltage [V]'); plt.legend()\n",
    "    # plt.xlim([min(xTime), max(xTime)])\n",
    "    # plt.show()\n",
    "\n",
    "print('done! ready for wavelength sweep. tls trig to Ch3!')"
   ]
  },
  {
   "cell_type": "markdown",
   "metadata": {},
   "source": [
    "## wavelength sweep"
   ]
  },
  {
   "cell_type": "code",
   "execution_count": 13,
   "metadata": {},
   "outputs": [
    {
     "name": "stdout",
     "output_type": "stream",
     "text": [
      "wavelength sweep done! check the data on the oscilloscope and confirm!\n",
      "acquiring oscilloscope traces...\n",
      "switch device! switch to PD! split trig to Ch3!\n",
      "plotting...\n"
     ]
    },
    {
     "data": {
      "image/png": "[encoded data removed]",
      "text/plain": [
       "<Figure size 720x288 with 1 Axes>"
      ]
     },
     "metadata": {
      "needs_background": "light"
     },
     "output_type": "display_data"
    }
   ],
   "source": [
    "## init\n",
    "## fg\n",
    "fgKeysight.write(':OUTP 0') ## stop fg\n",
    "## tls\n",
    "tlsAgilent.write(':SOUR0:POW -10DBM'); tlsAgilent.write(':SOUR0:WAV ' + str(round(lambDefault,4)) + 'NM')\n",
    "tlsAgilent.write(':WAV:SWE:CYCL 1')\n",
    "tlsAgilent.write(':WAV:SWE:MODE CONT')\n",
    "tlsAgilent.write(':WAV:SWE:REP TWOW')\n",
    "tlsAgilent.write(':WAV:SWE:STAR ' + str(lambStart) + 'NM')\n",
    "tlsAgilent.write(':WAV:SWE:STOP ' + str(lambEnd) + 'NM')\n",
    "tlsAgilent.write(':WAV:SWE:SPE ' + str(tuningSpeed) + 'NM/S')\n",
    "tlsAgilent.write(':WAV:SWE:STEP ' + str(sweepStep) + 'NM')\n",
    "tlsAgilent.write(':SOUR0:AM:STAT 0') ## no modulation\n",
    "tlsAgilent.write(':TRIG0:OUTP SWST') ## output trigger to sweep start\n",
    "# print(tlsAgilent.query(':WAV:SWE:CHEC?').strip()) ## check everything, make sure everything is okay\n",
    "# print(tlsAgilent.query('*OPC?').strip()) ## check again because im dumb\n",
    "## osc\n",
    "oscKeysight.write(':CHAN1:DISP 1'); oscKeysight.write(':CHAN2:DISP 1'); oscKeysight.write(':CHAN3:DISP 1'); oscKeysight.write(':CHAN4:DISP 0') ## all except 4\n",
    "oscKeysight.write(':TIM:RANG ' + str(oscDiv) + 'S'); oscKeysight.write(':TIM:POS ' + str(oscDelay) + 'S') ## div and delay\n",
    "# print(oscKeysight.query('*OPC?').strip()) ## check everything, make sure everything is okay\n",
    "oscKeysight.write(':ACQ:SRAT:ANAL:AUTO 0'); oscKeysight.write(':ACQ:POIN:AUTO 1') ## sampling rate to manual, sample points to auto\n",
    "for i in samplingRateLib:\n",
    "    oscKeysight.write(':ACQ:SRAT:ANAL ' + str(i))\n",
    "    if float(oscKeysight.query('ACQ:POIN:ANAL?').strip()) >= nSample: break ## highest sampling rate, with upper limit of nSample\n",
    "# print(float(oscKeysight.query(':ACQ:SRAT:ANAL?').strip())); print(float(oscKeysight.query('ACQ:POIN:ANAL?').strip())) ## sanity check. because.\n",
    "\n",
    "## main\n",
    "oscKeysight.write(':SING') ## arm oscilloscope trigger\n",
    "oscKeysight.write(':RUN') ## i told u to arm!\n",
    "time.sleep(3)\n",
    "tlsAgilent.write(':WAV:SWE STAR') ## start\n",
    "time.sleep(sweepElapsed + 5)\n",
    "print('wavelength sweep done! check the data on the oscilloscope and confirm!')\n",
    "\n",
    "tlsAgilent.write(':SOUR0:WAV 1550NM') ## reset TLS wavelength\n",
    "\n",
    "## get oscilloscope traces\n",
    "print('acquiring oscilloscope traces...')\n",
    "oscKeysight.write(':WAV:SOUR CHAN1'); oscKeysight.query(':WAV:SOUR?')\n",
    "yChan1 = oscKeysight.query_ascii_values(':WAV:DATA?', container=np.array)\n",
    "oscKeysight.write(':WAV:SOUR CHAN2'); oscKeysight.query(':WAV:SOUR?')\n",
    "yChan2 = oscKeysight.query_ascii_values(':WAV:DATA?', container=np.array)\n",
    "oscKeysight.write(':WAV:SOUR CHAN3'); oscKeysight.query(':WAV:SOUR?')\n",
    "yChan3 = oscKeysight.query_ascii_values(':WAV:DATA?', container=np.array)\n",
    "\n",
    "xIncrement = float(oscKeysight.query(':WAV:XINCREMENT?')); xOrigin = float(oscKeysight.query(':WAV:XORIGIN?'))\n",
    "xTime = [i*xIncrement + xOrigin for i in np.arange(0, len(yChan1))]\n",
    "\n",
    "print('switch device! switch to PD! split trig to Ch3!')\n",
    "\n",
    "## plotting\n",
    "print('plotting...')\n",
    "figHandler, axHandler = plt.subplots(1, 1, layout='constrained')\n",
    "plt.plot(xTime, yChan1, '-k', label='Ch1')\n",
    "# plt.plot(xTime, yChan2, '-g', label='Ch2')\n",
    "# plt.plot(xTime, yChan3, '-b', label='Ch3')\n",
    "plt.grid(True); plt.xlabel('Time [s]'); plt.ylabel('Voltage [V]'); plt.legend()\n",
    "plt.xlim([min(xTime), max(xTime)])\n",
    "plt.show()"
   ]
  },
  {
   "cell_type": "code",
   "execution_count": 14,
   "metadata": {},
   "outputs": [
    {
     "name": "stdout",
     "output_type": "stream",
     "text": [
      "saving to file...\n",
      "piezo sweep time!\n"
     ]
    }
   ],
   "source": [
    "## save to file\n",
    "fileName = deviceCurrent + '_' + str(round(lambStart)) + 'to' + str(round(lambEnd)) + 'nm_' + str(round(tuningSpeed,1)) + 'nmps'\n",
    "print('saving to file...')\n",
    "dataFrame = pd.DataFrame()\n",
    "dataFrame = pd.concat([dataFrame, pd.DataFrame(np.column_stack((xTime, yChan1, yChan2, yChan3)), columns=['Time [s]', 'Channel 1 [V]', 'Channel 2 [V]', 'Channel 3 [V]'])])\n",
    "# dataFrame.to_csv(fileName + '.csv', index=False, header=True) ## csv\n",
    "dataFrame.to_csv('Laser.csv', index=False, header=True) ## csv\n",
    "# # oscKeysight.write(':DISK:SAVE:WAV ALL,\"C:\\\\Users\\\\Administrator\\\\Desktop\\\\test\",CSV') ## inside osc\n",
    "\n",
    "print('piezo sweep time!')"
   ]
  },
  {
   "cell_type": "markdown",
   "metadata": {},
   "source": [
    "## stop piezo"
   ]
  },
  {
   "cell_type": "code",
   "execution_count": null,
   "metadata": {},
   "outputs": [],
   "source": [
    "tlsAgilent.write(':SOUR0:WAV ' + str(round(lambDefault,4)) + 'NM') ## reset TLS wavelength\n",
    "tlsAgilent.write(':SOUR0:AM:STAT 0') ## no modulation\n",
    "fgKeysight.write(':OUTP 0') ## stop fg"
   ]
  },
  {
   "cell_type": "code",
   "execution_count": null,
   "metadata": {},
   "outputs": [],
   "source": [
    "## close\n",
    "oscKeysight.close()\n",
    "fgKeysight.close()\n",
    "tlsAgilent.close()"
   ]
  }
 ],
 "metadata": {
  "kernelspec": {
   "display_name": "Python 3",
   "language": "python",
   "name": "python3"
  },
  "language_info": {
   "codemirror_mode": {
    "name": "ipython",
    "version": 3
   },
   "file_extension": ".py",
   "mimetype": "text/x-python",
   "name": "python",
   "nbconvert_exporter": "python",
   "pygments_lexer": "ipython3",
   "version": "3.10.11"
  },
  "orig_nbformat": 4,
  "vscode": {
   "interpreter": {
    "hash": "cc9fd6dd744e3b5d367a1c11e30d546e6435580a44b424cf475e1777bddb2098"
   }
  }
 },
 "nbformat": 4,
 "nbformat_minor": 2
}
